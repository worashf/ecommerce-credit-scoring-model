{
 "cells": [
  {
   "metadata": {},
   "cell_type": "markdown",
   "source": "###",
   "id": "e3629c4b1347cef6"
  },
  {
   "metadata": {},
   "cell_type": "markdown",
   "source": "### load data",
   "id": "7124ace9f87b3cdf"
  },
  {
   "metadata": {
    "ExecuteTime": {
     "end_time": "2025-06-29T20:13:25.183125Z",
     "start_time": "2025-06-29T20:13:09.243973Z"
    }
   },
   "cell_type": "code",
   "source": [
    "import sys\n",
    "sys.path.append('../src')\n",
    "from src import load_data,dataset_overview,generate_summary_stats\n",
    "\n",
    "data_path  = '../data/raw/data.csv'\n",
    "transactions_df = load_data(data_path)\n",
    "\n"
   ],
   "id": "778f48e39336c60c",
   "outputs": [
    {
     "name": "stdout",
     "output_type": "stream",
     "text": [
      "✅ Data loaded successfully with 95662 records\n"
     ]
    }
   ],
   "execution_count": 1
  },
  {
   "metadata": {},
   "cell_type": "code",
   "outputs": [],
   "execution_count": null,
   "source": "",
   "id": "998650c827c44eb6"
  }
 ],
 "metadata": {
  "kernelspec": {
   "display_name": "Python 3",
   "language": "python",
   "name": "python3"
  },
  "language_info": {
   "codemirror_mode": {
    "name": "ipython",
    "version": 2
   },
   "file_extension": ".py",
   "mimetype": "text/x-python",
   "name": "python",
   "nbconvert_exporter": "python",
   "pygments_lexer": "ipython2",
   "version": "2.7.6"
  }
 },
 "nbformat": 4,
 "nbformat_minor": 5
}
