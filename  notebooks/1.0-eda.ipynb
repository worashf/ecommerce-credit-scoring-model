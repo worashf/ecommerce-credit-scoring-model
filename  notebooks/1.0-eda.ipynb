{
 "cells": [
  {
   "metadata": {},
   "cell_type": "markdown",
   "source": "###",
   "id": "e3629c4b1347cef6"
  },
  {
   "metadata": {},
   "cell_type": "markdown",
   "source": "### load data",
   "id": "7124ace9f87b3cdf"
  },
  {
   "metadata": {
    "ExecuteTime": {
     "end_time": "2025-06-29T20:13:25.183125Z",
     "start_time": "2025-06-29T20:13:09.243973Z"
    }
   },
   "cell_type": "code",
   "source": [
    "import sys\n",
    "sys.path.append('../src')\n",
    "from src import load_data,dataset_overview,generate_summary_stats\n",
    "\n",
    "data_path  = '../data/raw/data.csv'\n",
    "transactions_df = load_data(data_path)\n",
    "\n"
   ],
   "id": "778f48e39336c60c",
   "outputs": [
    {
     "name": "stdout",
     "output_type": "stream",
     "text": [
      "✅ Data loaded successfully with 95662 records\n"
     ]
    }
   ],
   "execution_count": 1
  },
  {
   "metadata": {},
   "cell_type": "markdown",
   "source": "### overview of the data",
   "id": "344ae26ce2479155"
  },
  {
   "metadata": {},
   "cell_type": "code",
   "outputs": [
    {
     "name": "stdout",
     "output_type": "stream",
     "text": [
      "============================================================\n",
      "DATASET OVERVIEW\n",
      "============================================================\n",
      "📊 Total Records: 95,662\n",
      "📋 Features: 16\n",
      "🧠 Memory Usage: 60.92 MB\n",
      "🔍 Duplicates: 0\n",
      "\n",
      "📝 Data Types:\n",
      "TransactionId                        object\n",
      "BatchId                              object\n",
      "AccountId                            object\n",
      "SubscriptionId                       object\n",
      "CustomerId                           object\n",
      "CurrencyCode                         object\n",
      "CountryCode                           int64\n",
      "ProviderId                           object\n",
      "ProductId                            object\n",
      "ProductCategory                      object\n",
      "ChannelId                            object\n",
      "Amount                              float64\n",
      "Value                                 int64\n",
      "TransactionStartTime    datetime64[ns, UTC]\n",
      "PricingStrategy                       int64\n",
      "FraudResult                           int64\n",
      "dtype: object\n",
      "{'shape': (95662, 16), 'columns': ['TransactionId', 'BatchId', 'AccountId', 'SubscriptionId', 'CustomerId', 'CurrencyCode', 'CountryCode', 'ProviderId', 'ProductId', 'ProductCategory', 'ChannelId', 'Amount', 'Value', 'TransactionStartTime', 'PricingStrategy', 'FraudResult'], 'data_types': TransactionId                        object\n",
      "BatchId                              object\n",
      "AccountId                            object\n",
      "SubscriptionId                       object\n",
      "CustomerId                           object\n",
      "CurrencyCode                         object\n",
      "CountryCode                           int64\n",
      "ProviderId                           object\n",
      "ProductId                            object\n",
      "ProductCategory                      object\n",
      "ChannelId                            object\n",
      "Amount                              float64\n",
      "Value                                 int64\n",
      "TransactionStartTime    datetime64[ns, UTC]\n",
      "PricingStrategy                       int64\n",
      "FraudResult                           int64\n",
      "dtype: object, 'missing_values': TransactionId           0\n",
      "BatchId                 0\n",
      "AccountId               0\n",
      "SubscriptionId          0\n",
      "CustomerId              0\n",
      "CurrencyCode            0\n",
      "CountryCode             0\n",
      "ProviderId              0\n",
      "ProductId               0\n",
      "ProductCategory         0\n",
      "ChannelId               0\n",
      "Amount                  0\n",
      "Value                   0\n",
      "TransactionStartTime    0\n",
      "PricingStrategy         0\n",
      "FraudResult             0\n",
      "dtype: int64, 'duplicates': np.int64(0), 'memory_usage': np.float64(60.9151029586792)}\n",
      "Describe the data\n",
      "Information about the data\n",
      "<class 'pandas.core.frame.DataFrame'>\n",
      "RangeIndex: 95662 entries, 0 to 95661\n",
      "Data columns (total 16 columns):\n",
      " #   Column                Non-Null Count  Dtype              \n",
      "---  ------                --------------  -----              \n",
      " 0   TransactionId         95662 non-null  object             \n",
      " 1   BatchId               95662 non-null  object             \n",
      " 2   AccountId             95662 non-null  object             \n",
      " 3   SubscriptionId        95662 non-null  object             \n",
      " 4   CustomerId            95662 non-null  object             \n",
      " 5   CurrencyCode          95662 non-null  object             \n",
      " 6   CountryCode           95662 non-null  int64              \n",
      " 7   ProviderId            95662 non-null  object             \n",
      " 8   ProductId             95662 non-null  object             \n",
      " 9   ProductCategory       95662 non-null  object             \n",
      " 10  ChannelId             95662 non-null  object             \n",
      " 11  Amount                95662 non-null  float64            \n",
      " 12  Value                 95662 non-null  int64              \n",
      " 13  TransactionStartTime  95662 non-null  datetime64[ns, UTC]\n",
      " 14  PricingStrategy       95662 non-null  int64              \n",
      " 15  FraudResult           95662 non-null  int64              \n",
      "dtypes: datetime64[ns, UTC](1), float64(1), int64(4), object(10)\n",
      "memory usage: 11.7+ MB\n"
     ]
    }
   ],
   "execution_count": 5,
   "source": [
    " # Generate overview\n",
    "data_overview = dataset_overview(transactions_df)\n",
    "print(data_overview)\n",
    "print(f\"Describe the data\")\n",
    "transactions_df.describe()\n",
    "print(f\"Information about the data\")\n",
    "transactions_df.info()"
   ],
   "id": "998650c827c44eb6"
  },
  {
   "metadata": {},
   "cell_type": "markdown",
   "source": "### generate summary  stats",
   "id": "976cfaaceaa290e8"
  },
  {
   "metadata": {
    "ExecuteTime": {
     "end_time": "2025-06-29T20:20:08.745713Z",
     "start_time": "2025-06-29T20:20:07.909041Z"
    }
   },
   "cell_type": "code",
   "source": [
    "  # Generate statistics\n",
    "summary_stats = generate_summary_stats(transactions_df)"
   ],
   "id": "5e511c8789a0fe71",
   "outputs": [
    {
     "name": "stdout",
     "output_type": "stream",
     "text": [
      "\n",
      "============================================================\n",
      "NUMERICAL FEATURE STATISTICS\n",
      "============================================================\n",
      "                   count         mean            std        min       1%  \\\n",
      "CountryCode      95662.0   256.000000       0.000000      256.0    256.0   \n",
      "Amount           95662.0  6717.846433  123306.797164 -1000000.0 -30000.0   \n",
      "Value            95662.0  9900.583941  123122.087776        2.0     10.0   \n",
      "PricingStrategy  95662.0     2.255974       0.732924        0.0      1.0   \n",
      "FraudResult      95662.0     0.002018       0.044872        0.0      0.0   \n",
      "\n",
      "                   25%     50%     75%      99%        max   skewness  \\\n",
      "CountryCode      256.0   256.0   256.0    256.0      256.0   0.000000   \n",
      "Amount           -50.0  1000.0  2800.0  80000.0  9880000.0  51.098490   \n",
      "Value            275.0  1000.0  5000.0  90000.0  9880000.0  51.291086   \n",
      "PricingStrategy    2.0     2.0     2.0      4.0        4.0   1.659057   \n",
      "FraudResult        0.0     0.0     0.0      0.0        1.0  22.196295   \n",
      "\n",
      "                    kurtosis  \n",
      "CountryCode         0.000000  \n",
      "Amount           3363.127739  \n",
      "Value            3378.069274  \n",
      "PricingStrategy     2.087534  \n",
      "FraudResult       490.685762  \n",
      "\n",
      "============================================================\n",
      "CATEGORICAL FEATURE STATISTICS\n",
      "============================================================\n",
      "                 unique                  top   freq  missing\n",
      "TransactionId     95662      TransactionId_1      1        0\n",
      "BatchId           94809        BatchId_67019     28        0\n",
      "AccountId          3633       AccountId_4841  30893        0\n",
      "SubscriptionId     3627  SubscriptionId_3829  32630        0\n",
      "CustomerId         3742      CustomerId_7343   4091        0\n",
      "CurrencyCode          1                  UGX  95662        0\n",
      "ProviderId            6         ProviderId_4  38189        0\n",
      "ProductId            23          ProductId_6  32635        0\n",
      "ProductCategory       9   financial_services  45405        0\n",
      "ChannelId             4          ChannelId_3  56935        0\n"
     ]
    }
   ],
   "execution_count": 6
  },
  {
   "metadata": {
    "ExecuteTime": {
     "end_time": "2025-06-29T20:20:24.737898Z",
     "start_time": "2025-06-29T20:20:24.723055Z"
    }
   },
   "cell_type": "code",
   "source": [
    "print(\"Summary stats\")\n",
    "print(summary_stats)"
   ],
   "id": "7ff45d493eb75dc7",
   "outputs": [
    {
     "name": "stdout",
     "output_type": "stream",
     "text": [
      "Summary stats\n",
      "{'numerical':                    count         mean            std        min       1%  \\\n",
      "CountryCode      95662.0   256.000000       0.000000      256.0    256.0   \n",
      "Amount           95662.0  6717.846433  123306.797164 -1000000.0 -30000.0   \n",
      "Value            95662.0  9900.583941  123122.087776        2.0     10.0   \n",
      "PricingStrategy  95662.0     2.255974       0.732924        0.0      1.0   \n",
      "FraudResult      95662.0     0.002018       0.044872        0.0      0.0   \n",
      "\n",
      "                   25%     50%     75%      99%        max   skewness  \\\n",
      "CountryCode      256.0   256.0   256.0    256.0      256.0   0.000000   \n",
      "Amount           -50.0  1000.0  2800.0  80000.0  9880000.0  51.098490   \n",
      "Value            275.0  1000.0  5000.0  90000.0  9880000.0  51.291086   \n",
      "PricingStrategy    2.0     2.0     2.0      4.0        4.0   1.659057   \n",
      "FraudResult        0.0     0.0     0.0      0.0        1.0  22.196295   \n",
      "\n",
      "                    kurtosis  \n",
      "CountryCode         0.000000  \n",
      "Amount           3363.127739  \n",
      "Value            3378.069274  \n",
      "PricingStrategy     2.087534  \n",
      "FraudResult       490.685762  , 'categorical':                  unique                  top   freq  missing\n",
      "TransactionId     95662      TransactionId_1      1        0\n",
      "BatchId           94809        BatchId_67019     28        0\n",
      "AccountId          3633       AccountId_4841  30893        0\n",
      "SubscriptionId     3627  SubscriptionId_3829  32630        0\n",
      "CustomerId         3742      CustomerId_7343   4091        0\n",
      "CurrencyCode          1                  UGX  95662        0\n",
      "ProviderId            6         ProviderId_4  38189        0\n",
      "ProductId            23          ProductId_6  32635        0\n",
      "ProductCategory       9   financial_services  45405        0\n",
      "ChannelId             4          ChannelId_3  56935        0}\n"
     ]
    }
   ],
   "execution_count": 7
  },
  {
   "metadata": {},
   "cell_type": "code",
   "outputs": [],
   "execution_count": null,
   "source": "",
   "id": "5662500b21e24267"
  }
 ],
 "metadata": {
  "kernelspec": {
   "display_name": "Python 3",
   "language": "python",
   "name": "python3"
  },
  "language_info": {
   "codemirror_mode": {
    "name": "ipython",
    "version": 2
   },
   "file_extension": ".py",
   "mimetype": "text/x-python",
   "name": "python",
   "nbconvert_exporter": "python",
   "pygments_lexer": "ipython2",
   "version": "2.7.6"
  }
 },
 "nbformat": 4,
 "nbformat_minor": 5
}
